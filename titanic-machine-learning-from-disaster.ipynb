{
 "cells": [
  {
   "cell_type": "code",
   "execution_count": 1,
   "id": "256a7a88",
   "metadata": {
    "_cell_guid": "b1076dfc-b9ad-4769-8c92-a6c4dae69d19",
    "_uuid": "8f2839f25d086af736a60e9eeb907d3b93b6e0e5",
    "execution": {
     "iopub.execute_input": "2025-03-02T01:37:55.904221Z",
     "iopub.status.busy": "2025-03-02T01:37:55.903809Z",
     "iopub.status.idle": "2025-03-02T01:37:59.601745Z",
     "shell.execute_reply": "2025-03-02T01:37:59.600326Z"
    },
    "papermill": {
     "duration": 3.704,
     "end_time": "2025-03-02T01:37:59.604467",
     "exception": false,
     "start_time": "2025-03-02T01:37:55.900467",
     "status": "completed"
    },
    "tags": []
   },
   "outputs": [
    {
     "name": "stdout",
     "output_type": "stream",
     "text": [
      "Submission file 'submission.csv' has been created and saved in /kaggle/working/\n"
     ]
    }
   ],
   "source": [
    "import pandas as pd\n",
    "import numpy as np\n",
    "from sklearn.ensemble import RandomForestClassifier\n",
    "from sklearn.impute import SimpleImputer\n",
    "from sklearn.preprocessing import LabelEncoder, OneHotEncoder\n",
    "from sklearn.model_selection import train_test_split\n",
    "from sklearn.metrics import accuracy_score\n",
    "\n",
    "# Load datasets\n",
    "train_df = pd.read_csv('/kaggle/input/titanic/train.csv')\n",
    "test_df = pd.read_csv('/kaggle/input/titanic/test.csv')\n",
    "\n",
    "# Feature Engineering\n",
    "for df in [train_df, test_df]:\n",
    "    df['FamilySize'] = df['SibSp'] + df['Parch'] + 1\n",
    "    df['IsAlone'] = (df['FamilySize'] == 1).astype(int)\n",
    "    df['Title'] = df['Name'].str.extract(' ([A-Za-z]+)\\.', expand=False)\n",
    "    df['Title'] = df['Title'].replace(['Mlle', 'Ms'], 'Miss')\n",
    "    df['Title'] = df['Title'].replace(['Mme'], 'Mrs')\n",
    "    df['Title'] = df['Title'].replace(['Lady', 'Countess', 'Capt', 'Col', 'Don', 'Dr', 'Major', 'Rev', 'Sir', 'Jonkheer', 'Dona'], 'Other')\n",
    "    df['FareBin'] = pd.qcut(df['Fare'].fillna(df['Fare'].median()), 4, labels=False)\n",
    "    df['AgeBin'] = pd.cut(df['Age'].fillna(df['Age'].median()), bins=[0, 12, 20, 40, 60, 100], labels=False)\n",
    "\n",
    "# Select features\n",
    "features = ['Pclass', 'Sex', 'AgeBin', 'SibSp', 'Parch', 'FareBin', 'Embarked', 'Title', 'FamilySize', 'IsAlone']\n",
    "target = 'Survived'\n",
    "\n",
    "# Prepare dataset\n",
    "data = pd.concat([train_df[features], test_df[features]], axis=0).copy()\n",
    "\n",
    "# Handle missing values\n",
    "imputer = SimpleImputer(strategy='most_frequent')\n",
    "data = pd.DataFrame(imputer.fit_transform(data), columns=data.columns)\n",
    "\n",
    "# Convert categorical variables to numerical\n",
    "encoder = OneHotEncoder(drop='first', sparse_output=False, handle_unknown='ignore')\n",
    "categorical_features = ['Sex', 'Embarked', 'Title']\n",
    "data_encoded = pd.DataFrame(encoder.fit_transform(data[categorical_features]))\n",
    "data_encoded.columns = encoder.get_feature_names_out(categorical_features)\n",
    "data = data.drop(columns=categorical_features).reset_index(drop=True)\n",
    "data = pd.concat([data, data_encoded], axis=1)\n",
    "\n",
    "# Split train and test data back\n",
    "X_train = data.iloc[:len(train_df)]\n",
    "y_train = train_df[target]\n",
    "X_test = data.iloc[len(train_df):]\n",
    "\n",
    "# Train a RandomForest model\n",
    "model = RandomForestClassifier(n_estimators=200, max_depth=7, min_samples_split=5, min_samples_leaf=2, random_state=42)\n",
    "model.fit(X_train, y_train)\n",
    "\n",
    "# Make predictions\n",
    "y_pred = model.predict(X_test)\n",
    "\n",
    "# Create submission file\n",
    "submission = pd.DataFrame({'PassengerId': test_df['PassengerId'], 'Survived': y_pred})\n",
    "submission.to_csv('/kaggle/working/submission.csv', index=False)\n",
    "\n",
    "print(\"Submission file 'submission.csv' has been created and saved in /kaggle/working/\")\n"
   ]
  }
 ],
 "metadata": {
  "kaggle": {
   "accelerator": "none",
   "dataSources": [
    {
     "databundleVersionId": 26502,
     "sourceId": 3136,
     "sourceType": "competition"
    }
   ],
   "dockerImageVersionId": 30918,
   "isGpuEnabled": false,
   "isInternetEnabled": true,
   "language": "python",
   "sourceType": "notebook"
  },
  "kernelspec": {
   "display_name": "Python 3",
   "language": "python",
   "name": "python3"
  },
  "language_info": {
   "codemirror_mode": {
    "name": "ipython",
    "version": 3
   },
   "file_extension": ".py",
   "mimetype": "text/x-python",
   "name": "python",
   "nbconvert_exporter": "python",
   "pygments_lexer": "ipython3",
   "version": "3.10.12"
  },
  "papermill": {
   "default_parameters": {},
   "duration": 7.45723,
   "end_time": "2025-03-02T01:38:00.431660",
   "environment_variables": {},
   "exception": null,
   "input_path": "__notebook__.ipynb",
   "output_path": "__notebook__.ipynb",
   "parameters": {},
   "start_time": "2025-03-02T01:37:52.974430",
   "version": "2.6.0"
  }
 },
 "nbformat": 4,
 "nbformat_minor": 5
}
